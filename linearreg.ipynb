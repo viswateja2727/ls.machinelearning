{
 "cells": [
  {
   "cell_type": "code",
   "execution_count": 399,
   "id": "44482a5e-c97e-4f83-8d64-ba7be8486f5d",
   "metadata": {},
   "outputs": [],
   "source": [
    "import numpy as np\n",
    "import pandas as pd\n",
    "import matplotlib.pyplot as plt\n",
    "\n",
    "# Aim is to predict the marks of students of the test data"
   ]
  },
  {
   "cell_type": "code",
   "execution_count": 400,
   "id": "b7cc1c6a-a180-4233-8d19-2fb2f19d2f01",
   "metadata": {},
   "outputs": [],
   "source": [
    "# Use the file namd 'training data' to train the model\n",
    "\n",
    "data = pd.read_excel('Training data.xlsx')\n",
    "x_train = np.array(data.iloc[:,0:8])\n",
    "y_train = np.array(data.iloc[:,8]).reshape(-1,1)\n",
    "\n",
    "# Try plotting y_train with different features\n",
    "# To get an idea whether to add some features or not\n",
    "# Add some features if required in x_train\n",
    "\n",
    "# Also do label encoding for features not represented in numbers\n",
    "# refer the link if not know : https://youtu.be/589nCGeWG1w?si=t2Wa7LgbUOO4RooM\n",
    "\n",
    "def feature_changing(x_train):\n",
    "  # ---------\n",
    "    # Your code here\n",
    "    x_train[:,0] = (x_train[:,0] == 'yes').astype(int)\n",
    "    x_train[:,1] = (x_train[:,1] == 'M').astype(int)\n",
    "  # ---------\n",
    "    return x_train\n",
    "\n",
    "x_train = feature_changing(x_train)"
   ]
  },
  {
   "cell_type": "code",
   "execution_count": 401,
   "id": "250af190-f5c5-4632-a565-7aae64594cd7",
   "metadata": {},
   "outputs": [],
   "source": [
    "def z_score(x_train):\n",
    "\n",
    "  # ---------\n",
    "    # write the code for feature scaling here\n",
    "    # Your code here\n",
    "    x_mean=np.mean(x_train).reshape(1,-1)\n",
    "    x_std=np.std(x_train).reshape(1,-1)\n",
    "    x_train=(x_train-x_mean)/x_std\n",
    "  # ---------\n",
    "\n",
    "    return x_train,x_std,x_mean"
   ]
  },
  {
   "cell_type": "code",
   "execution_count": 402,
   "id": "bb0c6f8f-737a-433c-b0f3-006a6cbde98d",
   "metadata": {},
   "outputs": [],
   "source": [
    "def cost(x_train,y_train,w,b):\n",
    "\n",
    "  # ---------\n",
    "    # Your code here\n",
    "    # Use mean square error as cost function\n",
    "    # return cost\n",
    "    y_pred=np.dot(x_train,w)+b\n",
    "    loss=0.5*np.mean((y_pred-y_train)**2)\n",
    "  # ---------\n",
    "\n",
    "    return loss"
   ]
  },
  {
   "cell_type": "code",
   "execution_count": 403,
   "id": "de98c6fe-3ab7-427d-b374-95861aa35904",
   "metadata": {},
   "outputs": [],
   "source": [
    "def gradient_descent(x_train,y_train,w,b):\n",
    "\n",
    "  # ---------\n",
    "    # Your code here\n",
    "    # Choose learning rate yourself\n",
    "    alpha=0.22\n",
    "    m=x_train.shape[0]\n",
    "    y_pred=np.dot(x_train,w)+b\n",
    "    dj_dw=(1/m)*np.dot(x_train.T, (y_pred - y_train))\n",
    "    dj_db=(1/m)*np.sum(y_pred - y_train)\n",
    "    w=w-alpha*dj_dw\n",
    "    b=b-alpha*dj_db\n",
    "  # ---------\n",
    "\n",
    "    return w,b"
   ]
  },
  {
   "cell_type": "code",
   "execution_count": 404,
   "id": "32f85d50-7ccb-40c0-a3da-b9cb14f1c6b6",
   "metadata": {},
   "outputs": [
    {
     "name": "stdout",
     "output_type": "stream",
     "text": [
      "Optimization required, your accuracy is 64.5%\n"
     ]
    }
   ],
   "source": [
    "x_train = x_train.astype(np.float64)\n",
    "x_train,x_std,x_mean = z_score(x_train)\n",
    "\n",
    "np.random.seed(2147483647)\n",
    "w = np.random.randn(x_train.shape[1],1)\n",
    "b = np.random.randn(1)\n",
    "\n",
    "old_cost = 0\n",
    "\n",
    "while abs(old_cost - cost(x_train,y_train,w,b))>0.00001:\n",
    "  old_cost = cost(x_train,y_train,w,b)\n",
    "  w,b = gradient_descent(x_train,y_train,w,b)\n",
    "\n",
    "x_predict = pd.read_excel('Test data.xlsx').iloc[:,:8].to_numpy()\n",
    "x_predict = feature_changing(x_predict)\n",
    "x_predict = (x_predict - x_mean)/x_std\n",
    "ans = pd.read_excel('Test data.xlsx').iloc[:,8].to_numpy()\n",
    "\n",
    "y_predict = np.dot(x_predict,w) + b\n",
    "\n",
    "accuracy = 0\n",
    "for dim in range(len(ans)):\n",
    "  if abs(y_predict[dim]-ans[dim])<0.5: # do not change the tolerance as you'll be checked on +- 0.5 error only\n",
    "    accuracy += 1\n",
    "accuracy = round(accuracy*100/200,2)\n",
    "ok = 'Congratulations' if accuracy>95 else 'Optimization required'\n",
    "print(f\"{ok}, your accuracy is {accuracy}%\")"
   ]
  },
  {
   "cell_type": "code",
   "execution_count": null,
   "id": "957e7dfd-e8a1-400c-b16e-be6ac40ab6dd",
   "metadata": {},
   "outputs": [],
   "source": []
  },
  {
   "cell_type": "code",
   "execution_count": null,
   "id": "df343615-9fdf-4118-9a49-32081b68b4c3",
   "metadata": {},
   "outputs": [],
   "source": []
  }
 ],
 "metadata": {
  "kernelspec": {
   "display_name": "Python 3 (ipykernel)",
   "language": "python",
   "name": "python3"
  },
  "language_info": {
   "codemirror_mode": {
    "name": "ipython",
    "version": 3
   },
   "file_extension": ".py",
   "mimetype": "text/x-python",
   "name": "python",
   "nbconvert_exporter": "python",
   "pygments_lexer": "ipython3",
   "version": "3.11.7"
  }
 },
 "nbformat": 4,
 "nbformat_minor": 5
}
