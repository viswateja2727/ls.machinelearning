{
 "cells": [
  {
   "cell_type": "code",
   "execution_count": 1,
   "id": "a31a8f34-19af-492c-8b9d-9691ac6e7833",
   "metadata": {},
   "outputs": [
    {
     "name": "stdout",
     "output_type": "stream",
     "text": [
      "Passed\n"
     ]
    }
   ],
   "source": [
    "import numpy as np\n",
    "# Create a 2D Numpy array of size 1x3 with elements of your choice\n",
    "arr1=np.array([[1, 2, 3]])#Your code here\n",
    "\n",
    "# Create a Numpy array of length 50 with zeroes as its elements\n",
    "arr2=np.zeros(50)#Your code here\n",
    "\n",
    "#Create a Numpy array of length 3x2 with elements of your choice\n",
    "arr3=np.array([[1, 2], [3, 4], [5, 6]])#Your code here\n",
    "\n",
    "arr4=np.matmul(arr1,arr3)#Multiply arr1 and arr3 using Numpy functions\n",
    "\n",
    "#Change 5th element of arr2 to a different number\n",
    "arr2[4]=7\n",
    "#Your code here\n",
    "\n",
    "if np.shape(arr4)==(1,2) and arr2[4]!=0:\n",
    "  print(\"Passed\")\n",
    "else:\n",
    "  print(\"Fail\")"
   ]
  },
  {
   "cell_type": "code",
   "execution_count": 2,
   "id": "1846af79-3595-4d47-9845-1997884f8c40",
   "metadata": {},
   "outputs": [
    {
     "name": "stdout",
     "output_type": "stream",
     "text": [
      "[[10  1  1]\n",
      " [ 1 10  1]\n",
      " [ 1  1 10]]\n"
     ]
    }
   ],
   "source": [
    "import numpy as np\n",
    "\n",
    "#Task: Perform the dot product of I and 9I+1 using numpy, here I is referred to as an 3x3 Identity matrix.\n",
    "I=np.array([[1,0,0],[0,1,0],[0,0,1]])\n",
    "dot=np.dot(I,9*I+1)\n",
    "print(dot)"
   ]
  },
  {
   "cell_type": "code",
   "execution_count": 3,
   "id": "a921969f-fe0a-4c41-82e8-5920cc9ff833",
   "metadata": {},
   "outputs": [
    {
     "name": "stdout",
     "output_type": "stream",
     "text": [
      "     Name  Age       City\n",
      "0  Ramesh   25  Bangalore\n",
      "1  Mahesh   30     Mumbai\n",
      "0    25\n",
      "1    30\n",
      "2    35\n",
      "Name: Age, dtype: int64\n"
     ]
    }
   ],
   "source": [
    "import pandas as pd\n",
    "\n",
    "## Create a DataFrame from a dictionary\n",
    "data = {\n",
    "    'Name': ['Ramesh', 'Mahesh', 'Suresh'],\n",
    "    'Age': [25, 30, 35],\n",
    "    'City': ['Bangalore', 'Mumbai', 'Delhi']\n",
    "}\n",
    "#Your code here\n",
    "df = pd.DataFrame(data)\n",
    "#Display the first 2 rows of the data frame\n",
    "#Your code here\n",
    "print(df.loc[[0,1]])\n",
    "#Print the age column\n",
    "\n",
    "#Your code here\n",
    "print(df['Age'])\n",
    "#Filter rows where age is greater than 26\n",
    "#Your code here\n",
    "filtered_df = df[df['Age'] > 26]\n",
    "#Add a new column 'Country' with the value 'India' for all rows\n",
    "#Your code here\n",
    "df['country']='India'\n",
    "\n",
    "data1 = {\n",
    "    'Name': ['Ramesh', 'Mahesh', 'Suresh'],\n",
    "    'Age': [25, None, 35],\n",
    "    'City': ['Bangalore', 'Mumbai', 'Delhi']\n",
    "}\n",
    "\n",
    "df2= pd.DataFrame(data1)\n",
    "\n",
    "# Fill missing values in the 'Age' column with the mean age\n",
    "#Your code here\n",
    "df2['Age']=[25,df['Age'].mean(),35]"
   ]
  },
  {
   "cell_type": "code",
   "execution_count": 4,
   "id": "68b27312-0df4-47a1-a4c1-266f8e41344f",
   "metadata": {},
   "outputs": [
    {
     "data": {
      "text/plain": [
       "<matplotlib.collections.PathCollection at 0x22ac481ec50>"
      ]
     },
     "execution_count": 4,
     "metadata": {},
     "output_type": "execute_result"
    },
    {
     "data": {
      "image/png": "[encoded data removed]",
      "text/plain": [
       "<Figure size 640x480 with 1 Axes>"
      ]
     },
     "metadata": {},
     "output_type": "display_data"
    }
   ],
   "source": [
    "import matplotlib.pyplot as plt\n",
    "import numpy as np #numpy module. Fill your code\n",
    "\n",
    "\n",
    "\n",
    "xpoints=np.array([1,2,3,4])\n",
    "ypoints=np.array([2,4,6,8])\n",
    "\n",
    "#Plot these points without drawing a line\n",
    "#Your code here\n",
    "plt.scatter(xpoints,ypoints)\n",
    "\n",
    "#Plotting with marker: Plot these points with a marker(Star marker)\n",
    "#Your code here\n",
    "plt.scatter(xpoints,ypoints,marker='*')\n",
    "#Using fmt format, add circular marker,red color and Dashed line\n",
    "#Your code here\n",
    "plt.plot(xpoints,ypoints,'o--r')\n",
    "\n",
    "#Add xlabel,ylabel and title for the plot.\n",
    "#Your code here\n",
    "plt.title(\"Data\")\n",
    "plt.xlabel(\"x\")\n",
    "plt.ylabel(\"2x\")\n",
    "\n",
    "#Create a scatter plot for xpoints and ypoints\n",
    "#Your code here\n",
    "plt.scatter(xpoints,ypoints)\n",
    "#Set color to the scatter plot. Blue,Green,Red and yellow color for each point respectively\n",
    "colors=np.array([\"blue\", \"green\", \"red\" ,\"yellow\"])\n",
    "plt.scatter(xpoints,ypoints,c=colors)"
   ]
  },
  {
   "cell_type": "code",
   "execution_count": 5,
   "id": "15a2b80b-296b-4f57-9c93-6925c95bb496",
   "metadata": {},
   "outputs": [
    {
     "name": "stdout",
     "output_type": "stream",
     "text": [
      "126\n"
     ]
    }
   ],
   "source": [
    "import random\n",
    "import numpy as np\n",
    "\n",
    "#Set the seed of random to 20\n",
    "#Your code here\n",
    "np.random.seed(20)\n",
    "arr1=np.array([1,24,31,45,73,81,94,25])\n",
    "\n",
    "#Using the random module pick 4 different random numbers from arr1 and return their sum.\n",
    "#Your code here\n",
    "random_numbers= np.random.choice(arr1,size=4)\n",
    "sum=np.sum(random_numbers)\n",
    "print(sum)"
   ]
  },
  {
   "cell_type": "code",
   "execution_count": null,
   "id": "5c7bebc3-9449-48f4-90e1-9dd02dce7282",
   "metadata": {},
   "outputs": [],
   "source": []
  }
 ],
 "metadata": {
  "kernelspec": {
   "display_name": "Python 3 (ipykernel)",
   "language": "python",
   "name": "python3"
  },
  "language_info": {
   "codemirror_mode": {
    "name": "ipython",
    "version": 3
   },
   "file_extension": ".py",
   "mimetype": "text/x-python",
   "name": "python",
   "nbconvert_exporter": "python",
   "pygments_lexer": "ipython3",
   "version": "3.11.7"
  }
 },
 "nbformat": 4,
 "nbformat_minor": 5
}
